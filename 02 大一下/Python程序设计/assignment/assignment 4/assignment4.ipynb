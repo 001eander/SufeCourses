{
 "cells": [
  {
   "cell_type": "markdown",
   "metadata": {},
   "source": [
    "本次作业包含game.py、strategy.py，main.ipynb三个文件。\n",
    "\n",
    "game.py中实现了收益矩阵Payoff类和玩家基类Player类\n",
    "\n",
    "strategy.py中实现了课上提到的四种策略（AlwaysCooperatePlayer，AlwaysDefectPlayer，DowningPlayer，RandomPlayer）\n",
    "\n",
    "请在main.ipynb中完成作业，并基于结尾部分的代码进行验证。"
   ]
  },
  {
   "cell_type": "code",
   "execution_count": 68,
   "metadata": {},
   "outputs": [],
   "source": [
    "import random\n",
    "\n",
    "import pandas as pd\n",
    "from game import Payoff, Player\n",
    "from strategy import (\n",
    "    AlwaysCooperatePlayer,\n",
    "    AlwaysDefectPlayer,\n",
    "    DowningPlayer,\n",
    "    RandomPlayer,\n",
    ")"
   ]
  },
  {
   "cell_type": "markdown",
   "metadata": {},
   "source": [
    "# 第一题（60分）\n",
    "请实现以下几种策略：\n",
    "1. TitForTatPlayer(5分)\n",
    "2. TitForTwoTatsPlayer(5分)\n",
    "3. DavisPlayer(5分)\n",
    "4. GrudgerPlayer（5分）\n",
    "5. ShubikPlayer（20分）\n",
    "6. FeldPlayer（20分）"
   ]
  },
  {
   "cell_type": "markdown",
   "metadata": {},
   "source": [
    "### 1. TitForTatPlayer\n",
    "以牙还牙，对手上次选择什么，我就选择什么。在第一轮选择合作"
   ]
  },
  {
   "cell_type": "code",
   "execution_count": 180,
   "metadata": {},
   "outputs": [],
   "source": [
    "class TitForTatPlayer(Player):\n",
    "    def move(self, opponent: Player):\n",
    "        return opponent.history[-1] if opponent.history else \"C\""
   ]
  },
  {
   "cell_type": "markdown",
   "metadata": {},
   "source": [
    "### 2.TitForTwoTatsPlayer\n",
    "前两轮选择合作，之后若对手连续两次背叛，则选择背叛，否则选择合作。"
   ]
  },
  {
   "cell_type": "code",
   "execution_count": 181,
   "metadata": {},
   "outputs": [],
   "source": [
    "class TitForTwoTatsPlayer(Player):\n",
    "    def move(self, opponent: Player):\n",
    "        if len(opponent.history) < 2:\n",
    "            return \"C\"\n",
    "        return \"D\" if opponent.history[-2:] == [\"D\", \"D\"] else \"C\""
   ]
  },
  {
   "cell_type": "markdown",
   "metadata": {},
   "source": [
    "### 3.GrudgerPlayer\n",
    "若对手从未背叛过，就一直合作；一旦对手背叛一次，就一直选择背叛。"
   ]
  },
  {
   "cell_type": "code",
   "execution_count": 182,
   "metadata": {},
   "outputs": [],
   "source": [
    "class GrudgerPlayer(Player):\n",
    "    def move(self, opponent: Player):\n",
    "        return \"D\" if \"D\" in opponent.history else \"C\""
   ]
  },
  {
   "cell_type": "markdown",
   "metadata": {},
   "source": [
    "### 4.DavisPlayer\n",
    "前10轮一定合作，之后如果发现对方背叛过，则一直背叛，否则一直合作。"
   ]
  },
  {
   "cell_type": "code",
   "execution_count": 183,
   "metadata": {},
   "outputs": [],
   "source": [
    "class DavisPlayer(Player):\n",
    "    def move(self, opponent: Player):\n",
    "        if len(self.history) < 10:\n",
    "            return \"C\"\n",
    "        return \"D\" if \"D\" in opponent.history else \"C\""
   ]
  },
  {
   "cell_type": "markdown",
   "metadata": {},
   "source": [
    "### 5. ShubikPlayer\n",
    "1. 开局示好，第一回合选择合作\n",
    "2. 以直报怨，如果对方在上一回合背叛（出“D”），而自己上一回合是合作的（出“C”），策略会立刻触发报复。\n",
    "3. 逐步升级，每次触发报复时：\n",
    "    \n",
    "    立刻反击：当前回合直接背叛（D）。\n",
    "\n",
    "    延长惩罚：记录这次背叛，并让未来的惩罚时间比上一次多1回合。\n",
    "\n",
    "    例如：第一次被背叛时，惩罚1回合；第二次被背叛时，惩罚2回合，依此类推。\n",
    "\n",
    "4. 有限惩罚后和解，在设定的惩罚回合数结束后，策略会自动恢复合作。比如：如果当前需要惩罚2回合，那么连续出两次“D”后，第三回合主动变回“C”。"
   ]
  },
  {
   "cell_type": "code",
   "execution_count": 184,
   "metadata": {},
   "outputs": [],
   "source": [
    "class ShubikPlayer(Player):\n",
    "    def __init__(self, name: str):\n",
    "        super().__init__(name)\n",
    "        self.rage: int = 0\n",
    "        self.betray_cnt: int = 0\n",
    "\n",
    "    def move(self, opponent: Player):\n",
    "        if len(self.history) == 0:\n",
    "            return \"C\"\n",
    "\n",
    "        if self.rage > 0:\n",
    "            self.rage -= 1\n",
    "            return \"D\"\n",
    "\n",
    "        if opponent.history[-1] == \"D\" and self.history[-1] == \"C\":\n",
    "            self.betray_cnt += 1\n",
    "            self.rage = self.betray_cnt\n",
    "            return \"D\"\n",
    "        \n",
    "        return \"C\"\n",
    "    \n",
    "    def reset(self):\n",
    "        super().reset()\n",
    "        self.rage = 0\n",
    "        self.betray_cnt = 0"
   ]
  },
  {
   "cell_type": "markdown",
   "metadata": {},
   "source": [
    "### 6.费尔德策略FeldPlayer\n",
    "\n",
    "费尔德策略是一种**合作概率随时间衰减的随机策略**：\n",
    "1. 开局阶段倾向于合作 (`C`)。\n",
    "2. 若对手上一回合背叛 (`D`)，则本回合必然背叛。\n",
    "3. 随着回合数增加，合作概率逐渐降低至预设阈值。在对手上一轮合作的情况下，按当前合作概率随机选择合作或背叛。\n",
    "\n",
    "#### 合作概率计算\n",
    "定义当前回合的合作概率为：\n",
    "$$\n",
    "p_{\\text{coop}} = \\max\\left( p_{\\text{start}} + \\left( \\frac{p_{\\text{end}} - p_{\\text{start}}}{T_{\\text{decay}}} \\right) \\cdot t, \\ p_{\\text{end}} \\right)\n",
    "$$\n",
    "\n",
    "- **符号说明**：\n",
    "  - $p_{\\text{start}}$: 初始合作概率 (`start_coop_prob`)，设为1.0\n",
    "  - $p_{\\text{end}}$: 最终合作概率 (`end_coop_prob`)，设为0.5\n",
    "  - $T_{\\text{decay}}$: 合作概率衰减周期 (`rounds_of_decay`)，设为200\n",
    "  - $t$: 当前已进行回合数 (`len(self.history)`)\n"
   ]
  },
  {
   "cell_type": "code",
   "execution_count": 185,
   "metadata": {},
   "outputs": [],
   "source": [
    "class FeldPlayer(Player):\n",
    "    def __init__(self, name: str):\n",
    "        super().__init__(name)\n",
    "        self.start_coop_prob: float = 1.0\n",
    "        self.end_coop_prob: float = 0.5\n",
    "        self.rounds_of_decay: int = 200\n",
    "\n",
    "    def move(self, opponent: Player):\n",
    "        coop_prob: float = max(\n",
    "            self.end_coop_prob,\n",
    "            self.start_coop_prob\n",
    "            + (self.end_coop_prob - self.start_coop_prob)\n",
    "            / self.rounds_of_decay\n",
    "            * len(self.history),\n",
    "        )\n",
    "        return \"C\" if random.random() <= coop_prob else \"D\""
   ]
  },
  {
   "cell_type": "markdown",
   "metadata": {},
   "source": [
    "# 第二题（40分）\n",
    "请补全Tournament类：\n",
    "\n",
    "该类的属性包括：\n",
    "\n",
    "| 属性名             | 类型                                                   | 含义与功能说明                                     |\n",
    "|--------------------|--------------------------------------------------------|----------------------------------------------------|\n",
    "| `players`          | `List[Player]`                                         | 所有参赛选手（策略）列表                          |\n",
    "| `payoff`           | `Payoff`                                               | 收益矩阵，决定行动得分规则                        |\n",
    "| `rounds`           | `int`                                                  | 每场比赛的轮数                                     |\n",
    "| `_results`         | `Dict[str, int]`  | 存储每个玩家的累计总得分（按名称索引），即`Dict[玩家名, 累计得分]`，得分初始为0 |\n",
    "| `_match_results`   | `Dict[Tuple[str, str], int]`| 每一组玩家对战中，player1 的得分，即`Dict[（player1名称, player2名称）, player1得分]` ，得分初始为0|\n",
    "| `_round_history`   | `Dict[Tuple[str, str], List[Tuple[str, str]]]`| 存储每一组玩家在所有回合中的行为（如：`('C','D')`），即`Dict[（player1名称,player2名称）, List[（player1行动, player2行动），（player1行动, player2行动）......]`，list初始为空     |\n",
    "\n",
    "\n",
    "该类的方法包括：\n",
    "1. `_match(p1, p2)`：模拟两个玩家p1,p2之间的多轮对战；每轮获取双方动作，更新得分，并记录每一轮行为\n",
    "\n",
    "    首先初始化双方得分和行为记录。\n",
    "    然后，循环执行指定轮数的对战。\n",
    "    在每一轮中，调用p1的move方法获取p1本轮应对p2的动作，然后调用p2的move方法获取p2本轮应对p1的动作。基于收益矩阵获取本轮双方的得分，加入总分中，并记录双方的行动到各自的行动记录中。\n",
    "    最终，更新_round_history，返回双方各自的总得分。\n",
    "\n",
    "2. `run()`：循环锦标赛的主控制流程；每两位玩家进行一次 _match()；累加得分并记录比赛结果到 _results 和 _match_results\n",
    "\n",
    "    遍历每个玩家对（不包括自己与自己对战），对于每个玩家组合p1、p2，对玩家重置后，调用 _match 方法进行对战，将玩家p1的得分计入其总得分（更新_results），将p1与p2的对战结果记录在self._match_results中。   \n",
    "\n",
    "3. ` __call__()`：让 Tournament 实例可以像函数一样调用；内部自动调用 run() 和 print_rankings()\n",
    "4. `print_rankings()`：打印总排行榜（按平均得分降序）\n",
    "5. `get_round_history(p1_name, p2_name)`：返回指定两位玩家对战的每一回合行为,用于复盘分析或可视化展示\n",
    "6. `get_match_results()`：返回一个对战得分矩阵，行列为玩家名，元素为 player1 的得分，每行计算“平均得分”列供分析排名\n",
    "\n",
    "以下代码已实现部分，请补充以下部分：\n",
    "- 属性：`_results` ，`_match_results`，`_round_history`\n",
    "- 方法：`_match`，`run`\n",
    "\n"
   ]
  },
  {
   "cell_type": "code",
   "execution_count": 186,
   "metadata": {},
   "outputs": [],
   "source": [
    "from itertools import product\n",
    "\n",
    "\n",
    "class Tournament:\n",
    "    def __init__(self, players: list[Player], payoff: Payoff, rounds: int = 5):\n",
    "        self.payoff = payoff\n",
    "        self.players = players\n",
    "        self.rounds = rounds\n",
    "\n",
    "        self._results = {p.name: 0 for p in players}\n",
    "        self._match_results = {\n",
    "            (p1.name, p2.name): 0\n",
    "            for p1, p2 in product(players, repeat=2)\n",
    "            if p1.name != p2.name\n",
    "        }\n",
    "        self._round_history = {\n",
    "            (p1.name, p2.name): []\n",
    "            for p1, p2 in product(players, repeat=2)\n",
    "            if p1.name != p2.name\n",
    "        }\n",
    "\n",
    "    def _match(self, p1: Player, p2: Player) -> tuple[int, int]:\n",
    "        results = {p1.name: 0, p2.name: 0}\n",
    "        for _ in range(self.rounds):\n",
    "            move1 = p1.move(p2)\n",
    "            move2 = p2.move(p1)\n",
    "\n",
    "            p1.record_moves(move1)\n",
    "            p2.record_moves(move2)\n",
    "            \n",
    "            score1, score2 = self.payoff.matrix[(move1, move2)]\n",
    "\n",
    "            results[p1.name] += score1\n",
    "            results[p2.name] += score2\n",
    "\n",
    "            self._round_history[(p1.name, p2.name)].append((move1, move2))\n",
    "\n",
    "        return results[p1.name], results[p2.name]\n",
    "\n",
    "    def run(self) -> None:\n",
    "        for p1, p2 in product(self.players, self.players):\n",
    "            if p1.name == p2.name:\n",
    "                continue\n",
    "\n",
    "            p1.reset()\n",
    "            p2.reset()\n",
    "\n",
    "            score1, score2 = self._match(p1, p2)\n",
    "\n",
    "            self._results[p1.name] += score1\n",
    "            self._match_results[(p1.name, p2.name)] = score1\n",
    "\n",
    "    def __repr__(self) -> str:\n",
    "        return f\"Tournament(players={len(self.players)}, rounds={self.rounds})\"\n",
    "\n",
    "    @property\n",
    "    def rankings(self) -> list[tuple[str, int]]:\n",
    "        \"\"\"返回根据得分降序排序后的排行榜\"\"\"\n",
    "        return sorted(self._results.items(), key=lambda x: x[1], reverse=True)\n",
    "\n",
    "    def print_rankings(self) -> None:\n",
    "        title = \"Axelrod Tournament Results\"\n",
    "        records = [\n",
    "            f\"{rank:>3}. {name:<24} {score / len(self.players):7.0f} points (on average)\"\n",
    "            for rank, (name, score) in enumerate(self.rankings, start=1)\n",
    "        ]\n",
    "        max_length = max(len(record) for record in records)\n",
    "        blank_length = (max_length - len(title)) // 2\n",
    "        print(\"=\" * blank_length, title, \"=\" * blank_length)\n",
    "        for record in records:\n",
    "            print(record)\n",
    "\n",
    "    def __call__(self) -> None:\n",
    "        \"\"\"使 Tournament 实例可直接调用以运行并输出\"\"\"\n",
    "        self.run()\n",
    "        self.print_rankings()\n",
    "\n",
    "    def get_round_history(self, p1_name: str, p2_name: str) -> pd.DataFrame:\n",
    "        \"\"\"\n",
    "        返回指定玩家对战的回合记录，格式为pandas.DataFrame，包含2行N列，分别为player 1和player 2的行动。\n",
    "        \"\"\"\n",
    "        history = self._round_history.get((p1_name, p2_name), None)\n",
    "        if history is None:\n",
    "            raise ValueError(f\"No round history found for {p1_name} vs {p2_name}\")\n",
    "        return pd.DataFrame.from_records(\n",
    "            history,\n",
    "            columns=[f\"P1: {p1_name}\", f\"P2: {p2_name}\"],\n",
    "            index=range(1, self.rounds + 1),\n",
    "        )\n",
    "\n",
    "    def get_match_results(self) -> pd.DataFrame:\n",
    "        \"\"\"\n",
    "        以矩阵形式返回每对玩家的对战结果，以pandas.DataFrame格式返回。矩阵的行和列分别为玩家的名称。\n",
    "        其中，第i行j列表示第i个玩家作为player 1且第j个玩家作为player 2时，player 1的得分和player 2的得分。\n",
    "        该矩阵为对称矩阵，即第i行j列和第j行i列的值相同。\n",
    "        \"\"\"\n",
    "        player_names = [p for p, s in self.rankings]\n",
    "        result_matrix = pd.DataFrame(\n",
    "            index=player_names, columns=player_names, dtype=object\n",
    "        )\n",
    "\n",
    "        for (p1_name, p2_name), score1 in self._match_results.items():\n",
    "            result_matrix.at[p1_name, p2_name] = score1\n",
    "\n",
    "        result_matrix[\"Average Score\"] = result_matrix.mean(axis=1).transform(\n",
    "            lambda x: int(round(x))\n",
    "        )\n",
    "\n",
    "        return result_matrix"
   ]
  },
  {
   "cell_type": "markdown",
   "metadata": {},
   "source": [
    "# main(用于验证)"
   ]
  },
  {
   "cell_type": "code",
   "execution_count": 187,
   "metadata": {},
   "outputs": [
    {
     "data": {
      "text/plain": [
       "Payoff Matrix:\n",
       "                   player 2 \n",
       "                   C       D\n",
       "player 1  C     (3, 3)  (0, 10)\n",
       "          D     (10, 0)  (1, 1)"
      ]
     },
     "execution_count": 187,
     "metadata": {},
     "output_type": "execute_result"
    }
   ],
   "source": [
    "payoff = Payoff(R=3, P=1, S=0, T=10)\n",
    "payoff"
   ]
  },
  {
   "cell_type": "code",
   "execution_count": 188,
   "metadata": {},
   "outputs": [],
   "source": [
    "players = [\n",
    "    AlwaysCooperatePlayer(\"AlwaysCooperate\"),\n",
    "    AlwaysDefectPlayer(\"AlwaysDefect\"),\n",
    "    TitForTatPlayer(\"TitForTat\"),\n",
    "    TitForTwoTatsPlayer(\"TitForTwoTats\"),\n",
    "    DavisPlayer(\"Davis\"),\n",
    "    DowningPlayer(\"Downing\", payoff),\n",
    "    FeldPlayer(\"Feld\"),\n",
    "    GrudgerPlayer(\"Grudger\"),\n",
    "    RandomPlayer(\"Random\"),\n",
    "    ShubikPlayer(\"Shubik\"),\n",
    "]"
   ]
  },
  {
   "cell_type": "code",
   "execution_count": 189,
   "metadata": {},
   "outputs": [
    {
     "name": "stdout",
     "output_type": "stream",
     "text": [
      "=============== Axelrod Tournament Results ===============\n",
      "  1. Downing                      740 points (on average)\n",
      "  2. AlwaysDefect                 634 points (on average)\n",
      "  3. Grudger                      597 points (on average)\n",
      "  4. Davis                        577 points (on average)\n",
      "  5. Shubik                       568 points (on average)\n",
      "  6. TitForTat                    514 points (on average)\n",
      "  7. Random                       468 points (on average)\n",
      "  8. TitForTwoTats                456 points (on average)\n",
      "  9. Feld                         384 points (on average)\n",
      " 10. AlwaysCooperate              381 points (on average)\n"
     ]
    }
   ],
   "source": [
    "random.seed(2025)\n",
    "tournament = Tournament(players, payoff, rounds=200)\n",
    "tournament()  # 直接调用 __call__ 方法"
   ]
  },
  {
   "cell_type": "code",
   "execution_count": 190,
   "metadata": {},
   "outputs": [
    {
     "data": {
      "application/vnd.microsoft.datawrangler.viewer.v0+json": {
       "columns": [
        {
         "name": "index",
         "rawType": "int64",
         "type": "integer"
        },
        {
         "name": "P1: Feld",
         "rawType": "object",
         "type": "string"
        },
        {
         "name": "P2: Shubik",
         "rawType": "object",
         "type": "string"
        }
       ],
       "ref": "4801f7c2-a419-4646-9951-67369142f18c",
       "rows": [
        [
         "1",
         "C",
         "C"
        ],
        [
         "2",
         "C",
         "C"
        ],
        [
         "3",
         "C",
         "C"
        ],
        [
         "4",
         "C",
         "C"
        ],
        [
         "5",
         "C",
         "C"
        ],
        [
         "6",
         "C",
         "C"
        ],
        [
         "7",
         "C",
         "C"
        ],
        [
         "8",
         "C",
         "C"
        ],
        [
         "9",
         "C",
         "C"
        ],
        [
         "10",
         "C",
         "C"
        ],
        [
         "11",
         "C",
         "C"
        ],
        [
         "12",
         "C",
         "C"
        ],
        [
         "13",
         "C",
         "C"
        ],
        [
         "14",
         "C",
         "C"
        ],
        [
         "15",
         "C",
         "C"
        ],
        [
         "16",
         "C",
         "C"
        ],
        [
         "17",
         "C",
         "C"
        ],
        [
         "18",
         "D",
         "C"
        ],
        [
         "19",
         "C",
         "D"
        ],
        [
         "20",
         "C",
         "D"
        ],
        [
         "21",
         "C",
         "C"
        ],
        [
         "22",
         "C",
         "C"
        ],
        [
         "23",
         "C",
         "C"
        ],
        [
         "24",
         "C",
         "C"
        ],
        [
         "25",
         "C",
         "C"
        ],
        [
         "26",
         "C",
         "C"
        ],
        [
         "27",
         "C",
         "C"
        ],
        [
         "28",
         "C",
         "C"
        ],
        [
         "29",
         "C",
         "C"
        ],
        [
         "30",
         "C",
         "C"
        ],
        [
         "31",
         "C",
         "C"
        ],
        [
         "32",
         "C",
         "C"
        ],
        [
         "33",
         "C",
         "C"
        ],
        [
         "34",
         "C",
         "C"
        ],
        [
         "35",
         "C",
         "C"
        ],
        [
         "36",
         "C",
         "C"
        ],
        [
         "37",
         "D",
         "C"
        ],
        [
         "38",
         "C",
         "D"
        ],
        [
         "39",
         "C",
         "D"
        ],
        [
         "40",
         "C",
         "D"
        ],
        [
         "41",
         "C",
         "C"
        ],
        [
         "42",
         "C",
         "C"
        ],
        [
         "43",
         "C",
         "C"
        ],
        [
         "44",
         "C",
         "C"
        ],
        [
         "45",
         "C",
         "C"
        ],
        [
         "46",
         "C",
         "C"
        ],
        [
         "47",
         "C",
         "C"
        ],
        [
         "48",
         "C",
         "C"
        ],
        [
         "49",
         "C",
         "C"
        ],
        [
         "50",
         "C",
         "C"
        ]
       ],
       "shape": {
        "columns": 2,
        "rows": 200
       }
      },
      "text/html": [
       "<div>\n",
       "<style scoped>\n",
       "    .dataframe tbody tr th:only-of-type {\n",
       "        vertical-align: middle;\n",
       "    }\n",
       "\n",
       "    .dataframe tbody tr th {\n",
       "        vertical-align: top;\n",
       "    }\n",
       "\n",
       "    .dataframe thead th {\n",
       "        text-align: right;\n",
       "    }\n",
       "</style>\n",
       "<table border=\"1\" class=\"dataframe\">\n",
       "  <thead>\n",
       "    <tr style=\"text-align: right;\">\n",
       "      <th></th>\n",
       "      <th>P1: Feld</th>\n",
       "      <th>P2: Shubik</th>\n",
       "    </tr>\n",
       "  </thead>\n",
       "  <tbody>\n",
       "    <tr>\n",
       "      <th>1</th>\n",
       "      <td>C</td>\n",
       "      <td>C</td>\n",
       "    </tr>\n",
       "    <tr>\n",
       "      <th>2</th>\n",
       "      <td>C</td>\n",
       "      <td>C</td>\n",
       "    </tr>\n",
       "    <tr>\n",
       "      <th>3</th>\n",
       "      <td>C</td>\n",
       "      <td>C</td>\n",
       "    </tr>\n",
       "    <tr>\n",
       "      <th>4</th>\n",
       "      <td>C</td>\n",
       "      <td>C</td>\n",
       "    </tr>\n",
       "    <tr>\n",
       "      <th>5</th>\n",
       "      <td>C</td>\n",
       "      <td>C</td>\n",
       "    </tr>\n",
       "    <tr>\n",
       "      <th>...</th>\n",
       "      <td>...</td>\n",
       "      <td>...</td>\n",
       "    </tr>\n",
       "    <tr>\n",
       "      <th>196</th>\n",
       "      <td>D</td>\n",
       "      <td>D</td>\n",
       "    </tr>\n",
       "    <tr>\n",
       "      <th>197</th>\n",
       "      <td>D</td>\n",
       "      <td>D</td>\n",
       "    </tr>\n",
       "    <tr>\n",
       "      <th>198</th>\n",
       "      <td>D</td>\n",
       "      <td>D</td>\n",
       "    </tr>\n",
       "    <tr>\n",
       "      <th>199</th>\n",
       "      <td>D</td>\n",
       "      <td>C</td>\n",
       "    </tr>\n",
       "    <tr>\n",
       "      <th>200</th>\n",
       "      <td>D</td>\n",
       "      <td>D</td>\n",
       "    </tr>\n",
       "  </tbody>\n",
       "</table>\n",
       "<p>200 rows × 2 columns</p>\n",
       "</div>"
      ],
      "text/plain": [
       "    P1: Feld P2: Shubik\n",
       "1          C          C\n",
       "2          C          C\n",
       "3          C          C\n",
       "4          C          C\n",
       "5          C          C\n",
       "..       ...        ...\n",
       "196        D          D\n",
       "197        D          D\n",
       "198        D          D\n",
       "199        D          C\n",
       "200        D          D\n",
       "\n",
       "[200 rows x 2 columns]"
      ]
     },
     "metadata": {},
     "output_type": "display_data"
    }
   ],
   "source": [
    "tmp_df = tournament.get_round_history(\"Feld\", \"Shubik\")\n",
    "display(tmp_df)"
   ]
  },
  {
   "cell_type": "code",
   "execution_count": 191,
   "metadata": {},
   "outputs": [
    {
     "data": {
      "application/vnd.microsoft.datawrangler.viewer.v0+json": {
       "columns": [
        {
         "name": "index",
         "rawType": "object",
         "type": "string"
        },
        {
         "name": "Downing",
         "rawType": "object",
         "type": "unknown"
        },
        {
         "name": "AlwaysDefect",
         "rawType": "object",
         "type": "unknown"
        },
        {
         "name": "Grudger",
         "rawType": "object",
         "type": "unknown"
        },
        {
         "name": "Davis",
         "rawType": "object",
         "type": "unknown"
        },
        {
         "name": "Shubik",
         "rawType": "object",
         "type": "unknown"
        },
        {
         "name": "TitForTat",
         "rawType": "object",
         "type": "unknown"
        },
        {
         "name": "Random",
         "rawType": "object",
         "type": "unknown"
        },
        {
         "name": "TitForTwoTats",
         "rawType": "object",
         "type": "unknown"
        },
        {
         "name": "Feld",
         "rawType": "object",
         "type": "unknown"
        },
        {
         "name": "AlwaysCooperate",
         "rawType": "object",
         "type": "unknown"
        },
        {
         "name": "Average Score",
         "rawType": "int64",
         "type": "integer"
        }
       ],
       "ref": "ec746f4c-cf63-4324-b1b1-5905abe214cf",
       "rows": [
        [
         "Downing",
         null,
         "200",
         "206",
         "288",
         "602",
         "602",
         "1181",
         "722",
         "1595",
         "2000",
         "822"
        ],
        [
         "AlwaysDefect",
         "200",
         null,
         "209",
         "290",
         "362",
         "209",
         "1226",
         "218",
         "1622",
         "2000",
         "704"
        ],
        [
         "Grudger",
         "226",
         "199",
         null,
         "600",
         "600",
         "600",
         "1072",
         "600",
         "1477",
         "600",
         "664"
        ],
        [
         "Davis",
         "208",
         "190",
         "600",
         null,
         "600",
         "600",
         "1051",
         "600",
         "1317",
         "600",
         "641"
        ],
        [
         "Shubik",
         "602",
         "182",
         "600",
         "600",
         null,
         "600",
         "810",
         "600",
         "1084",
         "600",
         "631"
        ],
        [
         "TitForTat",
         "602",
         "199",
         "600",
         "600",
         "600",
         null,
         "659",
         "600",
         "677",
         "600",
         "571"
        ],
        [
         "Random",
         "82",
         "92",
         "101",
         "146",
         "317",
         "713",
         null,
         "985",
         "1021",
         "1223",
         "520"
        ],
        [
         "TitForTwoTats",
         "342",
         "198",
         "600",
         "600",
         "600",
         "600",
         "497",
         null,
         "528",
         "600",
         "507"
        ],
        [
         "Feld",
         "50",
         "38",
         "155",
         "141",
         "417",
         "714",
         "538",
         "789",
         null,
         "999",
         "427"
        ],
        [
         "AlwaysCooperate",
         "0",
         "0",
         "600",
         "600",
         "600",
         "600",
         "333",
         "600",
         "474",
         null,
         "423"
        ]
       ],
       "shape": {
        "columns": 11,
        "rows": 10
       }
      },
      "text/html": [
       "<div>\n",
       "<style scoped>\n",
       "    .dataframe tbody tr th:only-of-type {\n",
       "        vertical-align: middle;\n",
       "    }\n",
       "\n",
       "    .dataframe tbody tr th {\n",
       "        vertical-align: top;\n",
       "    }\n",
       "\n",
       "    .dataframe thead th {\n",
       "        text-align: right;\n",
       "    }\n",
       "</style>\n",
       "<table border=\"1\" class=\"dataframe\">\n",
       "  <thead>\n",
       "    <tr style=\"text-align: right;\">\n",
       "      <th></th>\n",
       "      <th>Downing</th>\n",
       "      <th>AlwaysDefect</th>\n",
       "      <th>Grudger</th>\n",
       "      <th>Davis</th>\n",
       "      <th>Shubik</th>\n",
       "      <th>TitForTat</th>\n",
       "      <th>Random</th>\n",
       "      <th>TitForTwoTats</th>\n",
       "      <th>Feld</th>\n",
       "      <th>AlwaysCooperate</th>\n",
       "      <th>Average Score</th>\n",
       "    </tr>\n",
       "  </thead>\n",
       "  <tbody>\n",
       "    <tr>\n",
       "      <th>Downing</th>\n",
       "      <td>NaN</td>\n",
       "      <td>200</td>\n",
       "      <td>206</td>\n",
       "      <td>288</td>\n",
       "      <td>602</td>\n",
       "      <td>602</td>\n",
       "      <td>1181</td>\n",
       "      <td>722</td>\n",
       "      <td>1595</td>\n",
       "      <td>2000</td>\n",
       "      <td>822</td>\n",
       "    </tr>\n",
       "    <tr>\n",
       "      <th>AlwaysDefect</th>\n",
       "      <td>200</td>\n",
       "      <td>NaN</td>\n",
       "      <td>209</td>\n",
       "      <td>290</td>\n",
       "      <td>362</td>\n",
       "      <td>209</td>\n",
       "      <td>1226</td>\n",
       "      <td>218</td>\n",
       "      <td>1622</td>\n",
       "      <td>2000</td>\n",
       "      <td>704</td>\n",
       "    </tr>\n",
       "    <tr>\n",
       "      <th>Grudger</th>\n",
       "      <td>226</td>\n",
       "      <td>199</td>\n",
       "      <td>NaN</td>\n",
       "      <td>600</td>\n",
       "      <td>600</td>\n",
       "      <td>600</td>\n",
       "      <td>1072</td>\n",
       "      <td>600</td>\n",
       "      <td>1477</td>\n",
       "      <td>600</td>\n",
       "      <td>664</td>\n",
       "    </tr>\n",
       "    <tr>\n",
       "      <th>Davis</th>\n",
       "      <td>208</td>\n",
       "      <td>190</td>\n",
       "      <td>600</td>\n",
       "      <td>NaN</td>\n",
       "      <td>600</td>\n",
       "      <td>600</td>\n",
       "      <td>1051</td>\n",
       "      <td>600</td>\n",
       "      <td>1317</td>\n",
       "      <td>600</td>\n",
       "      <td>641</td>\n",
       "    </tr>\n",
       "    <tr>\n",
       "      <th>Shubik</th>\n",
       "      <td>602</td>\n",
       "      <td>182</td>\n",
       "      <td>600</td>\n",
       "      <td>600</td>\n",
       "      <td>NaN</td>\n",
       "      <td>600</td>\n",
       "      <td>810</td>\n",
       "      <td>600</td>\n",
       "      <td>1084</td>\n",
       "      <td>600</td>\n",
       "      <td>631</td>\n",
       "    </tr>\n",
       "    <tr>\n",
       "      <th>TitForTat</th>\n",
       "      <td>602</td>\n",
       "      <td>199</td>\n",
       "      <td>600</td>\n",
       "      <td>600</td>\n",
       "      <td>600</td>\n",
       "      <td>NaN</td>\n",
       "      <td>659</td>\n",
       "      <td>600</td>\n",
       "      <td>677</td>\n",
       "      <td>600</td>\n",
       "      <td>571</td>\n",
       "    </tr>\n",
       "    <tr>\n",
       "      <th>Random</th>\n",
       "      <td>82</td>\n",
       "      <td>92</td>\n",
       "      <td>101</td>\n",
       "      <td>146</td>\n",
       "      <td>317</td>\n",
       "      <td>713</td>\n",
       "      <td>NaN</td>\n",
       "      <td>985</td>\n",
       "      <td>1021</td>\n",
       "      <td>1223</td>\n",
       "      <td>520</td>\n",
       "    </tr>\n",
       "    <tr>\n",
       "      <th>TitForTwoTats</th>\n",
       "      <td>342</td>\n",
       "      <td>198</td>\n",
       "      <td>600</td>\n",
       "      <td>600</td>\n",
       "      <td>600</td>\n",
       "      <td>600</td>\n",
       "      <td>497</td>\n",
       "      <td>NaN</td>\n",
       "      <td>528</td>\n",
       "      <td>600</td>\n",
       "      <td>507</td>\n",
       "    </tr>\n",
       "    <tr>\n",
       "      <th>Feld</th>\n",
       "      <td>50</td>\n",
       "      <td>38</td>\n",
       "      <td>155</td>\n",
       "      <td>141</td>\n",
       "      <td>417</td>\n",
       "      <td>714</td>\n",
       "      <td>538</td>\n",
       "      <td>789</td>\n",
       "      <td>NaN</td>\n",
       "      <td>999</td>\n",
       "      <td>427</td>\n",
       "    </tr>\n",
       "    <tr>\n",
       "      <th>AlwaysCooperate</th>\n",
       "      <td>0</td>\n",
       "      <td>0</td>\n",
       "      <td>600</td>\n",
       "      <td>600</td>\n",
       "      <td>600</td>\n",
       "      <td>600</td>\n",
       "      <td>333</td>\n",
       "      <td>600</td>\n",
       "      <td>474</td>\n",
       "      <td>NaN</td>\n",
       "      <td>423</td>\n",
       "    </tr>\n",
       "  </tbody>\n",
       "</table>\n",
       "</div>"
      ],
      "text/plain": [
       "                Downing AlwaysDefect Grudger Davis Shubik TitForTat Random  \\\n",
       "Downing             NaN          200     206   288    602       602   1181   \n",
       "AlwaysDefect        200          NaN     209   290    362       209   1226   \n",
       "Grudger             226          199     NaN   600    600       600   1072   \n",
       "Davis               208          190     600   NaN    600       600   1051   \n",
       "Shubik              602          182     600   600    NaN       600    810   \n",
       "TitForTat           602          199     600   600    600       NaN    659   \n",
       "Random               82           92     101   146    317       713    NaN   \n",
       "TitForTwoTats       342          198     600   600    600       600    497   \n",
       "Feld                 50           38     155   141    417       714    538   \n",
       "AlwaysCooperate       0            0     600   600    600       600    333   \n",
       "\n",
       "                TitForTwoTats  Feld AlwaysCooperate  Average Score  \n",
       "Downing                   722  1595            2000            822  \n",
       "AlwaysDefect              218  1622            2000            704  \n",
       "Grudger                   600  1477             600            664  \n",
       "Davis                     600  1317             600            641  \n",
       "Shubik                    600  1084             600            631  \n",
       "TitForTat                 600   677             600            571  \n",
       "Random                    985  1021            1223            520  \n",
       "TitForTwoTats             NaN   528             600            507  \n",
       "Feld                      789   NaN             999            427  \n",
       "AlwaysCooperate           600   474             NaN            423  "
      ]
     },
     "execution_count": 191,
     "metadata": {},
     "output_type": "execute_result"
    }
   ],
   "source": [
    "tournament.get_match_results()"
   ]
  }
 ],
 "metadata": {
  "kernelspec": {
   "display_name": "learn-python",
   "language": "python",
   "name": "python3"
  },
  "language_info": {
   "codemirror_mode": {
    "name": "ipython",
    "version": 3
   },
   "file_extension": ".py",
   "mimetype": "text/x-python",
   "name": "python",
   "nbconvert_exporter": "python",
   "pygments_lexer": "ipython3",
   "version": "3.13.2"
  }
 },
 "nbformat": 4,
 "nbformat_minor": 2
}
