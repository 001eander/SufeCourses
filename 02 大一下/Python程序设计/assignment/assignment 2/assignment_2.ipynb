{
 "cells": [
  {
   "cell_type": "markdown",
   "id": "6c1c797f",
   "metadata": {},
   "source": [
    "# 第一题 （30分）"
   ]
  },
  {
   "cell_type": "markdown",
   "id": "134c9a22",
   "metadata": {},
   "source": [
    "记一个大小为$M$行$N$列的矩阵为$A$，并记其中第$i$行第$j$列的元素为$A_{i,j}$，行数和列数均从$1$开始。"
   ]
  },
  {
   "attachments": {},
   "cell_type": "markdown",
   "id": "ac8b2757-8f9b-4fd9-8bd7-cdbfa7a2b1ed",
   "metadata": {
    "editable": true,
    "slideshow": {
     "slide_type": ""
    },
    "tags": []
   },
   "source": [
    "考虑如下定义的矩阵：$A_{i,j}=i \\times j$，即$A$为一个$M \\times N$的乘法表矩阵。下面的示例给出了$3 \\times 3$的乘法表矩阵。\n",
    "\n",
    "\\begin{array}{|c|c|c|}\n",
    "    \\hline\n",
    "    1&2&3\\\\\n",
    "    \\hline\n",
    "    2&4&6\\\\\n",
    "    \\hline\n",
    "    3&6&9\\\\\n",
    "    \\hline\n",
    "\\end{array}\n",
    "\n",
    "对于更一般的乘法表矩阵，考虑如下问题：给定三个整数$M$、$N$和$K$，请在大小为 $M\\times N$的乘法表中，找出并返回前$K$个最小数字的和。\n",
    "\n",
    "比如，对于示例中的$3 \\times 3$的乘法表矩阵，将矩阵元素从小到大排列成一行后，得到的列表如下。第一行为矩阵元素，第二行为第几小的编号。\n",
    "\\begin{array}{|c|c|c|c|c|c|c|c|c|}\n",
    "    \\hline\n",
    "    1&2&2&3&3&4&6&6&9\\\\\n",
    "    \\hline\n",
    "    1&2&3&4&5&6&7&8&9\\\\\n",
    "    \\hline\n",
    "\\end{array}\n",
    "\n",
    "当$K=3$时，前3个最小的数为$[1,2,2]$，因此应返回$5$。\n",
    "注：当$K \\le 0$时，应返回$0$。"
   ]
  },
  {
   "cell_type": "markdown",
   "id": "c7f0aecc",
   "metadata": {
    "editable": true,
    "slideshow": {
     "slide_type": ""
    },
    "tags": []
   },
   "source": [
    "请完成下方函数`find_smallest_sum(M, N, K, verbose=False)`的定义，其返回值即前$K$个最小数字的和。\n",
    "\n",
    "其中，当`verbose=True`时，函数需在执行过程中，额外打印出两部分内容，即原始的乘法表矩阵，以及从小到大排列成一行后的矩阵元素列表。输出的正确性占5分，美观度占5分。具体格式可参考下面给出的示例。\n",
    "\n",
    "请使用你定义的函数跑通这一题的后续代码，并展示输出。\n",
    "\n",
    "参考：https://leetcode.cn/problems/kth-smallest-number-in-multiplication-table/"
   ]
  },
  {
   "cell_type": "code",
   "execution_count": 1,
   "id": "d3efcbca",
   "metadata": {
    "editable": true,
    "slideshow": {
     "slide_type": ""
    },
    "tags": []
   },
   "outputs": [],
   "source": [
    "from itertools import product\n",
    "\n",
    "\n",
    "def find_smallest_sum(M, N, K, verbose=False) -> int:\n",
    "    fmat = [i * j for i, j in product(range(1, M + 1), range(1, N + 1))]\n",
    "    if verbose:\n",
    "        line_len = 100\n",
    "        print(\"=\" * line_len)\n",
    "\n",
    "        print(\"Multiplication Matrix:\")\n",
    "        max_len = len(str(M * N))\n",
    "        for line in (fmat[i : i + N] for i in range(0, M * N, N)):\n",
    "            print(\" \".join(f\"{x:>{max_len}}\" for x in line))\n",
    "\n",
    "        print(\"-\" * line_len)\n",
    "\n",
    "        print(\"Flattened Matrix:\")\n",
    "        lim = (line_len - 6) // (\n",
    "            max_len + 2\n",
    "        )  # line_len = 7 + max_len * lim + 2 * (lim - 1) + 1\n",
    "        idx_fmat = list(zip(range(1, M * N + 1), sorted(fmat)))\n",
    "        lines = [idx_fmat[i : i + lim] for i in range(0, M * N, lim)]\n",
    "\n",
    "        for lidx, line in enumerate(lines):\n",
    "            if lidx == len(lines) - 1:\n",
    "                print(\"Index: \" + \", \".join([f\"{idx:>{max_len}}\" for idx, _ in line]))\n",
    "                print(\"Value: \" + \", \".join([f\"{val:>{max_len}}\" for _, val in line]))\n",
    "                continue\n",
    "            print(\"Index: \" + \", \".join([f\"{idx:>{max_len}}\" for idx, _ in line]) + \",\")\n",
    "            print(\"Value: \" + \", \".join([f\"{val:>{max_len}}\" for _, val in line]) + \",\")\n",
    "            print()\n",
    "\n",
    "        print(\"-\" * line_len)\n",
    "\n",
    "        print(f\"The sum of the smallest {K} values: {sum(sorted(fmat)[:K])}\")\n",
    "\n",
    "        print(\"=\" * line_len)\n",
    "    return sum(sorted(fmat)[:K])\n"
   ]
  },
  {
   "cell_type": "code",
   "execution_count": 2,
   "id": "4a4d4322",
   "metadata": {
    "editable": true,
    "slideshow": {
     "slide_type": ""
    },
    "tags": []
   },
   "outputs": [
    {
     "data": {
      "text/plain": [
       "129"
      ]
     },
     "execution_count": 2,
     "metadata": {},
     "output_type": "execute_result"
    }
   ],
   "source": [
    "find_smallest_sum(5, 5, 20)\n"
   ]
  },
  {
   "cell_type": "markdown",
   "id": "c2d4476c",
   "metadata": {
    "editable": true,
    "slideshow": {
     "slide_type": ""
    },
    "tags": []
   },
   "source": [
    "上面的函数调用期待的输出应为\n",
    "```\n",
    "129\n",
    "```"
   ]
  },
  {
   "cell_type": "code",
   "execution_count": 3,
   "id": "842ced75",
   "metadata": {
    "editable": true,
    "slideshow": {
     "slide_type": ""
    },
    "tags": []
   },
   "outputs": [
    {
     "name": "stdout",
     "output_type": "stream",
     "text": [
      "====================================================================================================\n",
      "Multiplication Matrix:\n",
      " 1  2  3  4  5\n",
      " 2  4  6  8 10\n",
      " 3  6  9 12 15\n",
      " 4  8 12 16 20\n",
      " 5 10 15 20 25\n",
      "----------------------------------------------------------------------------------------------------\n",
      "Flattened Matrix:\n",
      "Index:  1,  2,  3,  4,  5,  6,  7,  8,  9, 10, 11, 12, 13, 14, 15, 16, 17, 18, 19, 20, 21, 22, 23,\n",
      "Value:  1,  2,  2,  3,  3,  4,  4,  4,  5,  5,  6,  6,  8,  8,  9, 10, 10, 12, 12, 15, 15, 16, 20,\n",
      "\n",
      "Index: 24, 25\n",
      "Value: 20, 25\n",
      "----------------------------------------------------------------------------------------------------\n",
      "The sum of the smallest 4 values: 8\n",
      "====================================================================================================\n"
     ]
    },
    {
     "data": {
      "text/plain": [
       "8"
      ]
     },
     "execution_count": 3,
     "metadata": {},
     "output_type": "execute_result"
    }
   ],
   "source": [
    "find_smallest_sum(5, 5, 4, verbose=True)\n"
   ]
  },
  {
   "cell_type": "markdown",
   "id": "624f61da",
   "metadata": {
    "editable": true,
    "slideshow": {
     "slide_type": ""
    },
    "tags": []
   },
   "source": [
    "上面的函数调用期待的输出应为\n",
    "\n",
    "```\n",
    "--------------\n",
    "乘法表矩阵：\n",
    " 1  2  3  4  5\n",
    " 2  4  6  8 10\n",
    " 3  6  9 12 15\n",
    " 4  8 12 16 20\n",
    " 5 10 15 20 25\n",
    "--------------\n",
    "排好序的矩阵元素列表：\n",
    "[1, 2, 2, 3, 3, 4, 4, 4, 5, 5, 6, 6, 8, 8, 9, 10, 10, 12, 12, 15, 15, 16, 20, 20, 25]\n",
    "--------------\n",
    "8\n",
    "```"
   ]
  },
  {
   "cell_type": "code",
   "execution_count": 4,
   "id": "b2ddb36d",
   "metadata": {
    "editable": true,
    "slideshow": {
     "slide_type": ""
    },
    "tags": []
   },
   "outputs": [
    {
     "name": "stdout",
     "output_type": "stream",
     "text": [
      "====================================================================================================\n",
      "Multiplication Matrix:\n",
      " 1  2  3  4  5  6  7\n",
      " 2  4  6  8 10 12 14\n",
      " 3  6  9 12 15 18 21\n",
      " 4  8 12 16 20 24 28\n",
      " 5 10 15 20 25 30 35\n",
      " 6 12 18 24 30 36 42\n",
      " 7 14 21 28 35 42 49\n",
      "----------------------------------------------------------------------------------------------------\n",
      "Flattened Matrix:\n",
      "Index:  1,  2,  3,  4,  5,  6,  7,  8,  9, 10, 11, 12, 13, 14, 15, 16, 17, 18, 19, 20, 21, 22, 23,\n",
      "Value:  1,  2,  2,  3,  3,  4,  4,  4,  5,  5,  6,  6,  6,  6,  7,  7,  8,  8,  9, 10, 10, 12, 12,\n",
      "\n",
      "Index: 24, 25, 26, 27, 28, 29, 30, 31, 32, 33, 34, 35, 36, 37, 38, 39, 40, 41, 42, 43, 44, 45, 46,\n",
      "Value: 12, 12, 14, 14, 15, 15, 16, 18, 18, 20, 20, 21, 21, 24, 24, 25, 28, 28, 30, 30, 35, 35, 36,\n",
      "\n",
      "Index: 47, 48, 49\n",
      "Value: 42, 42, 49\n",
      "----------------------------------------------------------------------------------------------------\n",
      "The sum of the smallest 5 values: 11\n",
      "====================================================================================================\n"
     ]
    },
    {
     "data": {
      "text/plain": [
       "11"
      ]
     },
     "execution_count": 4,
     "metadata": {},
     "output_type": "execute_result"
    }
   ],
   "source": [
    "find_smallest_sum(7, 7, 5, verbose=True)\n"
   ]
  },
  {
   "cell_type": "markdown",
   "id": "68870105",
   "metadata": {
    "editable": true,
    "slideshow": {
     "slide_type": ""
    },
    "tags": []
   },
   "source": [
    "上面的函数调用期待的输出应为\n",
    "\n",
    "```\n",
    "--------------------\n",
    "乘法表矩阵：\n",
    " 1  2  3  4  5  6  7\n",
    " 2  4  6  8 10 12 14\n",
    " 3  6  9 12 15 18 21\n",
    " 4  8 12 16 20 24 28\n",
    " 5 10 15 20 25 30 35\n",
    " 6 12 18 24 30 36 42\n",
    " 7 14 21 28 35 42 49\n",
    "--------------------\n",
    "排好序的矩阵元素列表：\n",
    "[1, 2, 2, 3, 3, 4, 4, 4, 5, 5, 6, 6, 6, 6, 7, 7, 8, 8, 9, 10, 10, 12, 12, 12, 12, 14, 14, 15, 15, 16, 18, 18, 20, 20, 21, 21, 24, 24, 25, 28, 28, 30, 30, 35, 35, 36, 42, 42, 49]\n",
    "--------------------\n",
    "11\n",
    "```"
   ]
  },
  {
   "cell_type": "markdown",
   "id": "5290fada",
   "metadata": {
    "editable": true,
    "slideshow": {
     "slide_type": ""
    },
    "tags": []
   },
   "source": [
    "# 第二题 （30分）"
   ]
  },
  {
   "cell_type": "markdown",
   "id": "f6db82d6",
   "metadata": {
    "editable": true,
    "slideshow": {
     "slide_type": ""
    },
    "tags": []
   },
   "source": [
    "在这一题中，你将根据一个[Polybius加密算法](https://ctf-wiki.org/crypto/classical/polyalphabetic/)，实现对一段文本的加密和解密。约定文本仅由大写字母书写而成。"
   ]
  },
  {
   "cell_type": "markdown",
   "id": "26e23b02",
   "metadata": {
    "editable": true,
    "slideshow": {
     "slide_type": ""
    },
    "tags": []
   },
   "source": [
    "Polybius密码又称为棋盘密码，加密过程是将给定的明文根据密码表加密为两两组合的数字，密码表由一个$5 \\times 5$的矩阵表示。下面给出了一个常用密码表。\n",
    "\n",
    "```\n",
    "|   \t| 1 \t| 2 \t| 3 \t| 4   \t| 5 \t|\n",
    "|---\t|---\t|---\t|---\t|-----\t|---\t|\n",
    "| 1 \t| A \t| B \t| C \t| D   \t| E \t|\n",
    "| 2 \t| F \t| G \t| H \t| I/J \t| K \t|\n",
    "| 3 \t| L \t| M \t| N \t| O   \t| P \t|\n",
    "| 4 \t| Q \t| R \t| S \t| T   \t| U \t|\n",
    "| 5 \t| V \t| W \t| X \t| Y   \t| Z \t|\n",
    "```\n",
    "\n",
    "记密码表矩阵为$A$，其第$i$行第$j$列（从1开始计数）的元素记为$A_{ij}$。该密码表的含义为，将文本中所有出现的$A_{ij}$字母，替换为数字$ij$。\n",
    "\n",
    "比如，将文本中所有出现的'L'字母，替换为数字$31$。由于英文字母有26个，比矩阵的元素个数多出一个，因此约定将I、J两个字母均视为字母I。\n",
    "\n",
    "如果待加密文本为`HELLO`，那么根据上述密码表进行加密后，结果应为`2315313134`。如果再对这个结果进行解密，应该得到`HELLO`。"
   ]
  },
  {
   "cell_type": "markdown",
   "id": "c2a76b4f",
   "metadata": {
    "editable": true,
    "slideshow": {
     "slide_type": ""
    },
    "tags": []
   },
   "source": [
    "请在下方完成下面两个函数的定义。\n",
    "\n",
    "+ `encrypt(text, codebook)`：其中，text为待加密文本（一个字符串），codebook为密码表（一个列表），函数需返回加密后的文本（一个字符串）。\n",
    "+ `decrypt(text, codebook)`：其中，text为待解密文本（一个字符串），codebook为密码表（一个列表），函数需返回解密后的文本（一个字符串）。\n",
    "\n",
    "密码表`codebook`是一个嵌套列表。其第$i$个元素（$i$从0计数），`codebook[i]`，是一个列表，对应$A$矩阵的第$i+1$行的所有元素。该列表中的第$j$个元素（$j$从0计数），`codebook[i][j]`，对应矩阵元素$A_{(i+1)(j+1)}$。`codebook[i][j]`本身是一个字符，表示一个英文大写字母。比如，示例中的密码表对应的`codebook`如下。\n",
    "```\n",
    "[['A', 'B', 'C', 'D', 'E'],\n",
    " ['F', 'G', 'H', 'I', 'K'],\n",
    " ['L', 'M', 'N', 'O', 'P'],\n",
    " ['Q', 'R', 'S', 'T', 'U'],\n",
    " ['V', 'W', 'X', 'Y', 'Z']]\n",
    "```\n",
    "注意到`codebook`中不包含字母`J`，因为根据约定，文本中所有出现的`J`都会被视为`I`。\n",
    "\n",
    "加密函数解密函数各占一半分数。\n",
    "\n",
    "\n",
    "请使用你定义的函数跑通这一题的后续代码，并展示输出。"
   ]
  },
  {
   "cell_type": "code",
   "execution_count": 5,
   "id": "995cb815",
   "metadata": {
    "editable": true,
    "slideshow": {
     "slide_type": ""
    },
    "tags": []
   },
   "outputs": [],
   "source": [
    "def encrypt(text: str, codebook: list[list[str]]) -> str:\n",
    "    text = text.replace(\"J\", \"I\")\n",
    "    codebook = \"\".join([\"\".join(line) for line in codebook])\n",
    "\n",
    "    def c(ch: str) -> str:\n",
    "        p = codebook.find(ch)\n",
    "        a, b = divmod(p, 5)\n",
    "        return f\"{a + 1}{b + 1}\"\n",
    "\n",
    "    return \"\".join([c(ch) for ch in text if ch.isalpha()])\n",
    "\n",
    "\n",
    "def decrypt(text, codebook):\n",
    "    pos = [\n",
    "        (int(text[i]) - 1, int(text[i + 1]) - 1) for i in range(0, len(text), 2)\n",
    "    ]\n",
    "    return \"\".join([codebook[x][y] for x, y in pos])\n"
   ]
  },
  {
   "cell_type": "code",
   "execution_count": 6,
   "id": "af152d63",
   "metadata": {
    "editable": true,
    "slideshow": {
     "slide_type": ""
    },
    "tags": []
   },
   "outputs": [],
   "source": [
    "codebook = [\n",
    "    [\"A\", \"B\", \"C\", \"D\", \"E\"],\n",
    "    [\"F\", \"G\", \"H\", \"I\", \"K\"],\n",
    "    [\"L\", \"M\", \"N\", \"O\", \"P\"],\n",
    "    [\"Q\", \"R\", \"S\", \"T\", \"U\"],\n",
    "    [\"V\", \"W\", \"X\", \"Y\", \"Z\"],\n",
    "]\n"
   ]
  },
  {
   "cell_type": "code",
   "execution_count": 7,
   "id": "0b605bbb",
   "metadata": {
    "editable": true,
    "slideshow": {
     "slide_type": ""
    },
    "tags": []
   },
   "outputs": [
    {
     "data": {
      "text/plain": [
       "'2315313134'"
      ]
     },
     "execution_count": 7,
     "metadata": {},
     "output_type": "execute_result"
    }
   ],
   "source": [
    "text = \"HELLO\"\n",
    "encrypt(text, codebook)\n"
   ]
  },
  {
   "cell_type": "code",
   "execution_count": 8,
   "id": "94819d24",
   "metadata": {
    "editable": true,
    "slideshow": {
     "slide_type": ""
    },
    "tags": []
   },
   "outputs": [
    {
     "data": {
      "text/plain": [
       "'HELLO'"
      ]
     },
     "execution_count": 8,
     "metadata": {},
     "output_type": "execute_result"
    }
   ],
   "source": [
    "decrypt(encrypt(text, codebook), codebook)\n"
   ]
  },
  {
   "cell_type": "code",
   "execution_count": 9,
   "id": "f6bfe5a2",
   "metadata": {
    "editable": true,
    "slideshow": {
     "slide_type": ""
    },
    "tags": []
   },
   "outputs": [
    {
     "data": {
      "text/plain": [
       "'243324151344'"
      ]
     },
     "execution_count": 9,
     "metadata": {},
     "output_type": "execute_result"
    }
   ],
   "source": [
    "text = \"INJECT\"\n",
    "encrypt(text, codebook)\n"
   ]
  },
  {
   "cell_type": "code",
   "execution_count": 10,
   "id": "a7ed57fe",
   "metadata": {
    "editable": true,
    "slideshow": {
     "slide_type": ""
    },
    "tags": []
   },
   "outputs": [
    {
     "data": {
      "text/plain": [
       "'INIECT'"
      ]
     },
     "execution_count": 10,
     "metadata": {},
     "output_type": "execute_result"
    }
   ],
   "source": [
    "decrypt(encrypt(text, codebook), codebook)\n"
   ]
  },
  {
   "cell_type": "markdown",
   "id": "ebfc60b0-8367-4d5a-a960-e54513eda185",
   "metadata": {
    "editable": true,
    "slideshow": {
     "slide_type": ""
    },
    "tags": []
   },
   "source": [
    "注意到`codebook`中的字母顺序即便随意打乱，编解码过程应该也能跑的通。打乱字母顺序相当于更换用来加密和解密的密码本。请试试利用下面的新密码本，解码给定的密文。"
   ]
  },
  {
   "cell_type": "code",
   "execution_count": 11,
   "id": "5734de91",
   "metadata": {
    "editable": true,
    "slideshow": {
     "slide_type": ""
    },
    "tags": []
   },
   "outputs": [],
   "source": [
    "# 请不要改动这里的代码\n",
    "import random\n",
    "from string import ascii_uppercase\n",
    "\n",
    "random.seed(101)\n",
    "\n",
    "letters = list(ascii_uppercase.replace(\"J\", \"\"))\n",
    "random.shuffle(letters)\n",
    "letters = \"\".join(letters)\n",
    "\n",
    "codebook = []\n",
    "for i in range(5):\n",
    "    row = []\n",
    "    for j in range(5):\n",
    "        idx = i * 5 + j\n",
    "        row.append(letters[idx])\n",
    "    codebook.append(row)\n",
    "\n",
    "\n",
    "text = \"1222312322534214445522245323514355421433\"\n"
   ]
  },
  {
   "cell_type": "code",
   "execution_count": 12,
   "id": "da02352e",
   "metadata": {
    "editable": true,
    "scrolled": true,
    "slideshow": {
     "slide_type": ""
    },
    "tags": []
   },
   "outputs": [
    {
     "data": {
      "text/plain": [
       "'LIFEISHORTIUSEPYTHON'"
      ]
     },
     "execution_count": 12,
     "metadata": {},
     "output_type": "execute_result"
    }
   ],
   "source": [
    "decrypt(text, codebook)\n"
   ]
  },
  {
   "cell_type": "markdown",
   "id": "5ea106c4",
   "metadata": {
    "editable": true,
    "slideshow": {
     "slide_type": ""
    },
    "tags": []
   },
   "source": [
    "# 第三题 （30分）"
   ]
  },
  {
   "cell_type": "markdown",
   "id": "bc20088a-95fc-4f30-a580-629059dbb825",
   "metadata": {
    "editable": true,
    "slideshow": {
     "slide_type": ""
    },
    "tags": []
   },
   "source": [
    "这道题一共4问。后3问兼具趣味性与挑战性，但是考虑到完成难度较高，分配的分值并不高。学有余力的同学可多花点时间尝试完成这3问。"
   ]
  },
  {
   "cell_type": "markdown",
   "id": "d16081a1",
   "metadata": {
    "editable": true,
    "slideshow": {
     "slide_type": ""
    },
    "tags": []
   },
   "source": [
    "## 第一问（25分）\n",
    "\n",
    "请阅读指定材料，然后补全下面给出的三个函数，来实现n阶幻方的生成、检查、以及展示。其中，n一定为大于等于3的奇数。\n",
    "\n",
    "+ 什么是幻方以及最简单的构造方案：https://baike.baidu.com/item/%E5%B9%BB%E6%96%B9/169544\n",
    "\n",
    "    下面的幻方生成算法摘自这篇文章，并针对本题要求做出了适当改动。可以结合第二问的演示动画来理解。\n",
    "\n",
    "    ```\n",
    "    考虑一个n行n列的矩阵，从上往下依次为第1行、第2行、以此类推，从左往右依次为第1列、第2列、以此类推。\n",
    "    (1) 将1放在第一行中间一列；\n",
    "    (2) 从2开始直到n*n为止，各数依次按下列规则存放：\n",
    "        (a) 按45°方向向右上方行走，每一个数存放的行比前一个数的行数减1，列数加1；\n",
    "        (b) 如果行列范围超出矩阵范围，则回绕。例如1在第1行，则2应放在最底下一行，列数同样加1；\n",
    "        (c) 如果按上面规则确定的位置上已有数，则把下一个数放在上一个数的下面。\n",
    "    ```\n",
    "    该算法被称为[Siamese method](https://en.wikipedia.org/wiki/Siamese_method#The_method)，有关其证明可参考论文[A Proof of the \"Magicness\" of the Siam Construction of a Magic Square](https://scholar.rose-hulman.edu/rhumj/vol19/iss1/3)。（校园网可能无法访问）\n",
    "+ 如何格式化可变长度的字符串？ https://stackoverflow.com/questions/36962995/format-in-python-by-variable-length"
   ]
  },
  {
   "cell_type": "code",
   "execution_count": 13,
   "id": "5b5db2a1",
   "metadata": {
    "editable": true,
    "slideshow": {
     "slide_type": ""
    },
    "tags": []
   },
   "outputs": [],
   "source": [
    "def generate_magic_square(n: int) -> list[list[int]]:\n",
    "    \"\"\"\n",
    "    假设n为大于等于3的奇数，该函数将数字[1,2,...,n*n]排列为一个n*n的幻方。\n",
    "    排列的结果需要存储在一个嵌套列表`matrix`中，`matrix[i][j]`对应幻方的第i行第j列。\n",
    "    比如，当n=3时，`matrix`的值为\n",
    "        [[8, 1, 6], [3, 5, 7], [4, 9, 2]]\n",
    "    该函数返回`matrix`。\n",
    "    \"\"\"\n",
    "    assert n >= 3 and n % 2 == 1, (\n",
    "        \"n must be an odd number greater than or equal to 3\"\n",
    "    )\n",
    "    matrix = [[0 for j in range(n)] for i in range(n)]\n",
    "    x, y = 0, n // 2\n",
    "    for i in range(1, n**2 + 1):\n",
    "        if matrix[x][y] != 0:\n",
    "            x, y = (x + 2) % n, (y + n - 1) % n\n",
    "        matrix[x][y] = i\n",
    "        x, y = (x + n - 1) % n, (y + 1) % n\n",
    "    return matrix\n",
    "\n",
    "\n",
    "def is_magic_square(matrix: list[list[int]]) -> bool:\n",
    "    \"\"\"\n",
    "    该函数以函数`generate_magic_square`的返回值作为输入，并检查`matrix`对应的方阵，\n",
    "    每行和、每列和以及正反对角线元素的和，是否都相等。\n",
    "    如果传入的`matrix`参数构成一个幻方，则返回True，否则返回False。\n",
    "    \"\"\"\n",
    "    n = len(matrix)\n",
    "    s = (1 + n**2) * n // 2\n",
    "    line_sum = [sum(line) for line in matrix]\n",
    "    row_sum = [sum(line[i] for line in matrix) for i in range(n)]\n",
    "    diag_sum = [\n",
    "        sum(matrix[i][i] for i in range(n)),\n",
    "        sum(matrix[i][n - 1 - i] for i in range(n)),\n",
    "    ]\n",
    "    return all(x == s for x in line_sum + row_sum + diag_sum)\n",
    "\n",
    "\n",
    "def render_square(matrix: list[list[int]], max_n_digit: int) -> None:\n",
    "    \"\"\"\n",
    "    该函数以任意n*n的以双层列表形式存储的矩阵`matrix`作为输入，并将矩阵用`print`函数打印出来。\n",
    "    比如，对于函数`generate_magic_square`返回的5*5的幻方，当`max_n_digit=2`时，打印效果如下：\n",
    "\n",
    "    17 24  1  8 15\n",
    "    23  5  7 14 16\n",
    "     4  6 13 20 22\n",
    "    10 12 19 21  3\n",
    "    11 18 25  2  9\n",
    "\n",
    "    （请忽略掉空行）\n",
    "    注意，矩阵的每个格子需要等宽，且格子中的数字需要右对齐。\n",
    "    格子的宽度通过传入的参数`max_n_digit`确定。比如，`max_n_digit=3`意味着每个格子占3个字符。\n",
    "    每行相邻的两个格子，间隔一个空格字符。\n",
    "    \"\"\"\n",
    "    print(\n",
    "        \"\\n\".join(\n",
    "            \" \".join(f\"{x:>{max_n_digit}}\" for x in line) for line in matrix\n",
    "        )\n",
    "    )\n"
   ]
  },
  {
   "cell_type": "markdown",
   "id": "e8cfab21",
   "metadata": {
    "editable": true,
    "slideshow": {
     "slide_type": ""
    },
    "tags": []
   },
   "source": [
    "请使用下面的代码测试你实现的函数。注意尝试不同的`n`的取值。"
   ]
  },
  {
   "cell_type": "code",
   "execution_count": 14,
   "id": "85334069",
   "metadata": {
    "editable": true,
    "slideshow": {
     "slide_type": ""
    },
    "tags": []
   },
   "outputs": [
    {
     "name": "stdout",
     "output_type": "stream",
     "text": [
      "--------------\n",
      "17 24  1  8 15\n",
      "23  5  7 14 16\n",
      " 4  6 13 20 22\n",
      "10 12 19 21  3\n",
      "11 18 25  2  9\n"
     ]
    }
   ],
   "source": [
    "n = 5\n",
    "matrix = generate_magic_square(n)\n",
    "if is_magic_square(matrix):\n",
    "    max_n_digit = len(str(n * n))\n",
    "    n_dash = (max_n_digit + 1) * n - 1\n",
    "    print(\"-\" * n_dash)\n",
    "    render_square(matrix, max_n_digit)\n"
   ]
  },
  {
   "attachments": {
    "d1kgzetn.gif": {
     "image/gif": "[encoded data removed]"
    }
   },
   "cell_type": "markdown",
   "id": "27a2d11f",
   "metadata": {
    "editable": true,
    "slideshow": {
     "slide_type": ""
    },
    "tags": []
   },
   "source": [
    "## 第二问（3分）\n",
    "\n",
    "请基于第一次作业最后一题的动画绘制代码，以及本题你的答案，编写程序可视化n阶幻方的生成过程（n为奇数）。下面展示了`n=5`时，程序需要输出的动画，以每秒一帧的方式生成。\n",
    "\n",
    "+ 类似于第一问的设定，每个格子的宽度由变量`max_n_digit`定义。\n",
    "+ 注意展示画布的初始状态，即在填数字之前，每个格子的数字位置由字符`.`填充。\n",
    "+ 请将每秒帧数定义为变量`frame_per_second`，并根据该变量的取值设定动画的播放速度。\n",
    "\n",
    "![d1kgzetn.gif](attachment:d1kgzetn.gif)"
   ]
  },
  {
   "cell_type": "code",
   "execution_count": 15,
   "id": "c76c76eb",
   "metadata": {
    "editable": true,
    "slideshow": {
     "slide_type": ""
    },
    "tags": []
   },
   "outputs": [
    {
     "name": "stdout",
     "output_type": "stream",
     "text": [
      "17 24  1  8 15\n",
      "23  5  7 14 16\n",
      " 4  6 13 20 22\n",
      "10 12 19 21  3\n",
      "11 18 25  2  9\n"
     ]
    }
   ],
   "source": [
    "from time import sleep\n",
    "\n",
    "from IPython.display import clear_output\n",
    "\n",
    "n = 5\n",
    "frame_per_second = 1\n",
    "\n",
    "max_n_digit = len(str(n * n))\n",
    "\n",
    "\n",
    "def render_matrix(matrix: list[list[int]], none: str = \".\") -> None:\n",
    "    lines = []\n",
    "    for line in matrix:\n",
    "        lines.append(\n",
    "            \" \".join(f\"{(x if x else none):>{max_n_digit}}\" for x in line)\n",
    "        )\n",
    "    print(\"\\n\".join(lines))\n",
    "\n",
    "\n",
    "def generate_magic_square_by_step(n: int) -> list[list[int]]:\n",
    "    assert n >= 3 and n % 2 == 1, (\n",
    "        \"n must be an odd number greater than or equal to 3\"\n",
    "    )\n",
    "    matrix = [[0 for j in range(n)] for i in range(n)]\n",
    "    x, y = 0, n // 2\n",
    "    for i in range(1, n**2 + 1):\n",
    "        if matrix[x][y] != 0:\n",
    "            x, y = (x + 2) % n, (y + n - 1) % n\n",
    "        matrix[x][y] = i\n",
    "        x, y = (x + n - 1) % n, (y + 1) % n\n",
    "        yield matrix\n",
    "\n",
    "\n",
    "for matrix in generate_magic_square_by_step(n):\n",
    "    clear_output(wait=True)\n",
    "    render_matrix(matrix)\n",
    "    sleep(1 / frame_per_second)\n"
   ]
  },
  {
   "cell_type": "markdown",
   "id": "977aa229",
   "metadata": {
    "editable": true,
    "slideshow": {
     "slide_type": ""
    },
    "tags": []
   },
   "source": [
    "## 第三问（1分）\n",
    "\n",
    "将1到9这9这个数字填入3\\*3的矩阵中，一共有9!（阶乘符号）种不同的填法。请通过暴力穷举法，结合第一问中定义的`is_magic_square`函数，找出这些填法中的所有3阶幻方，并将这些幻方存入列表`magic_square_l`中。请展示你找到的3阶幻方的总个数。"
   ]
  },
  {
   "cell_type": "code",
   "execution_count": 16,
   "id": "c63285db",
   "metadata": {
    "editable": true,
    "slideshow": {
     "slide_type": ""
    },
    "tags": []
   },
   "outputs": [
    {
     "name": "stdout",
     "output_type": "stream",
     "text": [
      "362880\n"
     ]
    }
   ],
   "source": [
    "# 请不要改动下面的代码\n",
    "n = 3\n",
    "m = n * n\n",
    "# total number of ways of creating a n*n matrix with numbers from 1 to 9 filled in\n",
    "total_n_perm = 1\n",
    "for i in range(m):\n",
    "    total_n_perm *= i + 1\n",
    "print(total_n_perm)\n"
   ]
  },
  {
   "cell_type": "code",
   "execution_count": 17,
   "id": "99eb36e0",
   "metadata": {
    "editable": true,
    "slideshow": {
     "slide_type": ""
    },
    "tags": []
   },
   "outputs": [],
   "source": [
    "from itertools import permutations  # 有点偷懒了，但是这样确实会快\n",
    "\n",
    "\n",
    "def permutations_(arr):\n",
    "    if not isinstance(arr, list):\n",
    "        arr = [item for item in arr]\n",
    "    if len(arr) == 0:\n",
    "        yield []\n",
    "        return\n",
    "    for i in range(len(arr)):\n",
    "        for p in permutations_(arr[:i] + arr[i + 1 :]):\n",
    "            yield [arr[i]] + p\n",
    "\n",
    "\n",
    "def generate_magic_square_by_perm(\n",
    "    n: int, use_builtin_perm: bool = True\n",
    ") -> list[list[int]]:\n",
    "    permute = permutations if use_builtin_perm else permutations_\n",
    "    for perm in permute(range(1, n**2 + 1)):\n",
    "        matrix = [list(perm[i * n : (i + 1) * n]) for i in range(n)]\n",
    "        if is_magic_square(matrix):\n",
    "            yield matrix\n",
    "\n",
    "\n",
    "magic_square_l = list(generate_magic_square_by_perm(n))\n"
   ]
  },
  {
   "cell_type": "code",
   "execution_count": 18,
   "id": "6f5be9ff",
   "metadata": {
    "editable": true,
    "scrolled": true,
    "slideshow": {
     "slide_type": ""
    },
    "tags": []
   },
   "outputs": [
    {
     "name": "stdout",
     "output_type": "stream",
     "text": [
      "8\n"
     ]
    }
   ],
   "source": [
    "print(len(magic_square_l))\n"
   ]
  },
  {
   "attachments": {
    "assignment2_Q4.PNG": {
     "image/png": "[encoded data removed]"
    }
   },
   "cell_type": "markdown",
   "id": "4ea055d7",
   "metadata": {
    "editable": true,
    "slideshow": {
     "slide_type": ""
    },
    "tags": []
   },
   "source": [
    "## 第四问（1分）\n",
    "\n",
    "请实现下面预定义的函数`render_square_l`，将前一问中找到的所有3阶幻方以矩阵的排布方式，使用`print`函数打印出来。具体来说，每$M$个幻方为一组，每组幻方并排展示。每排内部的幻方之间以由参数`col_sep`构成的一列做分隔符，排与排之间以由参数`row_sep`构成的一行做分隔符。最后，有关参数`max_n_digit`的含义，请参考第一问中，函数`render_square`给出的说明。\n",
    "\n",
    "下面的截图展示了函数调用语句\n",
    "```\n",
    "    render_square_l(magic_square_l, M=2, col_sep=' | ', row_sep='=')\n",
    "```\n",
    "的部分输出结果（**仅最后两排**）。\n",
    "\n",
    "![assignment2_Q4.PNG](attachment:assignment2_Q4.PNG)\n",
    "\n",
    "注：Jupyter notebook的输出格子默认启用了自动换行机制，即单行输出的字符长度超过上限时，会换行显示。因此，请确保你看到的换行结果不是由自动换行导致的。一般而言，当`M=3`时，每组幻方应当能实现并排展示，且不触发自动换行。如果你的显示器分辨率不够，可以在较低的`M`取值上测试程序，但需要保证实现的正确性。给该题评分时，我会保证评分用的电脑显示器分辨率足够宽，可以正常显示直到`M=9`的调用结果，因此我也会测试你的程序在`M=9`时的展示效果。"
   ]
  },
  {
   "cell_type": "code",
   "execution_count": 19,
   "id": "c9a63c71",
   "metadata": {
    "editable": true,
    "slideshow": {
     "slide_type": ""
    },
    "tags": []
   },
   "outputs": [
    {
     "name": "stdout",
     "output_type": "stream",
     "text": [
      "=======================================================\n",
      " 2 7 6 | 2 9 4 | 4 3 8 | 4 9 2 | 6 1 8 | 6 7 2 | 8 1 6 \n",
      " 9 5 1 | 7 5 3 | 9 5 1 | 3 5 7 | 7 5 3 | 1 5 9 | 3 5 7 \n",
      " 4 3 8 | 6 1 8 | 2 7 6 | 8 1 6 | 2 9 4 | 8 3 4 | 4 9 2 \n",
      "=======================================================\n",
      " 8 3 4 \n",
      " 1 5 9 \n",
      " 6 7 2 \n"
     ]
    }
   ],
   "source": [
    "def render_square_l(matrix_l, M, col_sep, row_sep, max_n_digit=1):\n",
    "    def str_(x):\n",
    "        return f\"{x:>{max_n_digit}}\"\n",
    "\n",
    "    n = len(matrix_l[0])\n",
    "    line_length = (\n",
    "        (max_n_digit * n + 1 * (n - 1)) * M + len(col_sep) * (M - 1) + 2\n",
    "    )\n",
    "\n",
    "    matrix_l = [matrix_l[i : i + M] for i in range(0, len(matrix_l), M)]\n",
    "\n",
    "    for row in matrix_l:\n",
    "        print(row_sep * line_length)\n",
    "        for i in range(n):\n",
    "            line = col_sep.join([\n",
    "                \" \".join(map(str_, matrix[i])) for matrix in row\n",
    "            ])\n",
    "            print(\" \" + line + \" \")\n",
    "\n",
    "\n",
    "render_square_l(magic_square_l, M=7, col_sep=\" | \", row_sep=\"=\", max_n_digit=1)\n"
   ]
  },
  {
   "cell_type": "markdown",
   "id": "f9e786a8",
   "metadata": {
    "editable": true,
    "slideshow": {
     "slide_type": ""
    },
    "tags": []
   },
   "source": [
    "## 拓展阅读\n",
    "\n",
    "+ 方开泰, & 郑妍珣. (2013). 数学与文化交融的奇迹——幻方. 数学文化, 4, 52–56.\n",
    "  - 提供了有关幻方文化的趣味知识。\n",
    "\n",
    "\n",
    "+ Arroyo, J. (2018). A Proof of the “Magicness” of the Siam Construction of a Magic Square. Rose-Hulman Undergraduate Mathematics Journal, 19(1). https://scholar.rose-hulman.edu/rhumj/vol19/iss1/3\n",
    "  - 提供了有关siamese method的简单证明。\n",
    "\n",
    "+ The math behind the Siamese method of generating magic squares. (n.d.). Retrieved April 5, 2024, from https://thospel.home.xs4all.nl/siamese.html\n",
    "  - 提供了有关siamese method的更一般的证明，但写的较为晦涩。\n",
    "\n",
    "+ Peng, C.-C., Tsai, C.-J., Chang, T.-Y., Yeh, J.-Y., & Lee, M.-C. (2020). Novel heterogeneous grouping method based on magic square. Information Sciences, 517, 340–360. https://doi.org/10.1016/j.ins.2019.12.088\n",
    "  - 利用幻方开发的学生分组算法。是幻方在信息管理领域的一个应用。\n"
   ]
  },
  {
   "cell_type": "markdown",
   "id": "295dd244",
   "metadata": {
    "editable": true,
    "slideshow": {
     "slide_type": ""
    },
    "tags": []
   },
   "source": [
    "# 第四题（10分）"
   ]
  },
  {
   "cell_type": "markdown",
   "id": "eb3c9cd5",
   "metadata": {
    "editable": true,
    "slideshow": {
     "slide_type": ""
    },
    "tags": []
   },
   "source": [
    "这道题考察大家与大语言模型协作的能力，即是否能识别出大语言模型给出的回复中有误的内容，并引导它给出正确的回答。\n",
    "请参考下述与大语言模型KimiChat的对话记录，并指出大语言模型回复中存在错误的地方。请直接在下方格子给出你的文字回答。\n",
    "回答中既需要向大语言模型指出问题，也需要给出引导，尝试让它生成更符合需求的答案。在这个案例里，我们期望得到一个在效率上有所优化的字符串比较函数。\n",
    "\n",
    "对话记录链接：[https://kimi.moonshot.cn/share/crt3hslskq8lofg6kv9g](https://kimi.moonshot.cn/share/crt3hslskq8lofg6kv9g)。\n",
    "也可参考canvas第二次作业页面中，提供的聊天记录PDF文件。"
   ]
  },
  {
   "cell_type": "markdown",
   "id": "1142e624",
   "metadata": {},
   "source": [
    "## 错误之处"
   ]
  },
  {
   "cell_type": "markdown",
   "id": "682a366a",
   "metadata": {},
   "source": [
    "很明显，这个新函数忽略了上文要求的“使用ord函数和基本的条件表达式来比较”。而且，这个函数最好直接返回`True`或者`False`。\n",
    "\n",
    "同时，也没有采用它自己提出来的优化方法，比如利用内置函数处理特殊情形，也没有缓存。"
   ]
  },
  {
   "cell_type": "markdown",
   "id": "ca674f85",
   "metadata": {},
   "source": [
    "## 改进提示词"
   ]
  },
  {
   "cell_type": "markdown",
   "id": "2677d6ed",
   "metadata": {},
   "source": [
    "这个优化版本的函数存在一些问题，请你改正。\n",
    "\n",
    "+ 这个新函数忽略了“使用ord函数和基本的条件表达式来比较”这个条件。\n",
    "+ 这个新函数采用了-1和1作为返回值，我希望能够采用`True`和`False`（`True`表示小于，`False`表示不小于）。\n",
    "\n",
    "同时，使用下面的方法进行优化。\n",
    "\n",
    "+ 优先使用时间复杂度小的方法判断特殊情形，如先判断字符串长短\n",
    "+ 利用内置函数处理特殊情形\n",
    "+ 采用记忆化的方法缓存\n",
    "\n",
    "请给我优化后的函数，它应该长下面这样\n",
    "\n",
    "```python\n",
    "def strcmp(s1:str, s2:str) -> bool:\n",
    "    \"\"\"Return True if s1 is smaller than s2\"\"\"\n",
    "```"
   ]
  },
  {
   "cell_type": "markdown",
   "id": "122f60f3",
   "metadata": {},
   "source": [
    "## 结果"
   ]
  },
  {
   "cell_type": "markdown",
   "id": "8da809d6",
   "metadata": {},
   "source": [
    "好的，我会根据你的要求对函数进行优化。以下是满足条件的优化版本：\n",
    "\n",
    "```python\n",
    "def strcmp(s1: str, s2: str) -> bool:\n",
    "    \"\"\"Return True if s1 is smaller than s2\"\"\"\n",
    "    # 使用内置的min函数获取较短的字符串长度\n",
    "    min_len = min(len(s1), len(s2))\n",
    "    \n",
    "    # 使用zip和ord函数逐字符比较\n",
    "    for i in range(min_len):\n",
    "        if ord(s1[i]) < ord(s2[i]):\n",
    "            return True\n",
    "        elif ord(s1[i]) > ord(s2[i]):\n",
    "            return False\n",
    "    \n",
    "    # 如果所有字符都相等，比较字符串长度\n",
    "    return len(s1) < len(s2)\n",
    "\n",
    "# 示例\n",
    "print(strcmp(\"apple\", \"banana\"))  # True\n",
    "print(strcmp(\"banana\", \"apple\"))  # False\n",
    "print(strcmp(\"apple\", \"apple\"))   # False\n",
    "print(strcmp(\"apple\", \"app\"))     # False\n",
    "print(strcmp(\"app\", \"apple\"))     # True\n",
    "```\n",
    "\n",
    "### 优化点说明：\n",
    "1. **优先使用时间复杂度小的方法判断特殊情形**：\n",
    "   - 在逐字符比较之前，先通过`min(len(s1), len(s2))`获取较短的字符串长度，这样可以减少不必要的循环。\n",
    "   - 如果所有字符都相等，最后通过比较字符串长度来确定结果，这也是一个时间复杂度为O(1)的操作。\n",
    "\n",
    "2. **利用内置函数处理特殊情形**：\n",
    "   - 使用`min`函数来获取较短的字符串长度，避免手动编写比较逻辑。\n",
    "   - 使用`ord`函数获取字符的Unicode码点值，这是Python内置的高效函数。\n",
    "\n",
    "3. **采用记忆化的方法缓存**：\n",
    "   - 如果需要进一步优化，可以使用`functools.lru_cache`来缓存已经比较过的字符串对。但请注意，字符串比较通常是不可变操作，且字符串可能非常多，因此缓存的实用性取决于具体场景。如果字符串重复率很高，缓存可以显著提高性能。\n",
    "\n",
    "以下是加入缓存的版本：\n",
    "\n",
    "```python\n",
    "from functools import lru_cache\n",
    "\n",
    "@lru_cache(maxsize=None)  # 使用缓存，maxsize=None表示无限制缓存\n",
    "def strcmp(s1: str, s2: str) -> bool:\n",
    "    \"\"\"Return True if s1 is smaller than s2\"\"\"\n",
    "    # 使用内置的min函数获取较短的字符串长度\n",
    "    min_len = min(len(s1), len(s2))\n",
    "    \n",
    "    # 使用zip和ord函数逐字符比较\n",
    "    for i in range(min_len):\n",
    "        if ord(s1[i]) < ord(s2[i]):\n",
    "            return True\n",
    "        elif ord(s1[i]) > ord(s2[i]):\n",
    "            return False\n",
    "    \n",
    "    # 如果所有字符都相等，比较字符串长度\n",
    "    return len(s1) < len(s2)\n",
    "\n",
    "# 示例\n",
    "print(strcmp(\"apple\", \"banana\"))  # True\n",
    "print(strcmp(\"banana\", \"apple\"))  # False\n",
    "print(strcmp(\"apple\", \"apple\"))   # False\n",
    "print(strcmp(\"apple\", \"app\"))     # False\n",
    "print(strcmp(\"app\", \"apple\"))     # True\n",
    "```\n",
    "\n",
    "### 注意：\n",
    "- 缓存的使用需要根据实际场景决定。如果字符串比较操作非常频繁且字符串重复率高，缓存可以显著提高性能。但如果字符串是动态生成的且不重复，缓存可能会占用过多内存。"
   ]
  },
  {
   "cell_type": "markdown",
   "id": "5e9a75ea",
   "metadata": {},
   "source": [
    "## 更多对话细节\n",
    "\n",
    "点击链接查看和 Kimi 的对话 https://kimi.moonshot.cn/share/d0leh3nahd8djsvc2gag"
   ]
  },
  {
   "cell_type": "code",
   "execution_count": 20,
   "id": "e7926fda",
   "metadata": {},
   "outputs": [
    {
     "name": "stdout",
     "output_type": "stream",
     "text": [
      "True\n",
      "False\n",
      "False\n",
      "False\n",
      "True\n"
     ]
    }
   ],
   "source": [
    "def strcmp(s1: str, s2: str) -> bool:\n",
    "    \"\"\"Return True if s1 is smaller than s2\"\"\"\n",
    "    # 检查输入是否为字符串\n",
    "    if not isinstance(s1, str) or not isinstance(s2, str):\n",
    "        raise TypeError(\"Both inputs must be strings.\")\n",
    "    \n",
    "    # 先比较长度\n",
    "    if len(s1) < len(s2):\n",
    "        return True\n",
    "    elif len(s1) > len(s2):\n",
    "        return False\n",
    "    \n",
    "    # 如果长度相同，使用zip逐个字符比较\n",
    "    for char1, char2 in zip(s1, s2):\n",
    "        if ord(char1) < ord(char2):\n",
    "            return True\n",
    "        elif ord(char1) > ord(char2):\n",
    "            return False\n",
    "    \n",
    "    # 所有字符都相等\n",
    "    return False\n",
    "\n",
    "# 示例\n",
    "print(strcmp(\"apple\", \"banana\"))  # True\n",
    "print(strcmp(\"banana\", \"apple\"))  # False\n",
    "print(strcmp(\"apple\", \"apple\"))   # False\n",
    "print(strcmp(\"apple\", \"app\"))     # False\n",
    "print(strcmp(\"app\", \"apple\"))     # True"
   ]
  }
 ],
 "metadata": {
  "celltoolbar": "Tags",
  "kernelspec": {
   "display_name": ".venv",
   "language": "python",
   "name": "python3"
  },
  "language_info": {
   "codemirror_mode": {
    "name": "ipython",
    "version": 3
   },
   "file_extension": ".py",
   "mimetype": "text/x-python",
   "name": "python",
   "nbconvert_exporter": "python",
   "pygments_lexer": "ipython3",
   "version": "3.13.2"
  },
  "toc": {
   "base_numbering": 1,
   "nav_menu": {},
   "number_sections": false,
   "sideBar": true,
   "skip_h1_title": true,
   "title_cell": "Table of Contents",
   "title_sidebar": "Contents",
   "toc_cell": false,
   "toc_position": {},
   "toc_section_display": true,
   "toc_window_display": false
  }
 },
 "nbformat": 4,
 "nbformat_minor": 5
}
